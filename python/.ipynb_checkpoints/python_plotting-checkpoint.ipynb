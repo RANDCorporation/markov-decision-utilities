{
 "cells": [
  {
   "cell_type": "code",
   "execution_count": 1,
   "metadata": {},
   "outputs": [],
   "source": [
    "import pandas as pd\n",
    "import os, os.path\n",
    "import matplotlib.pyplot as plt\n",
    "import matplotlib\n",
    "import numpy as np\n",
    "import support_functions as sf\n",
    "import importlib\n",
    "from python_plots import *"
   ]
  },
  {
   "cell_type": "code",
   "execution_count": 171,
   "metadata": {},
   "outputs": [],
   "source": []
  },
  {
   "cell_type": "code",
   "execution_count": 13,
   "metadata": {},
   "outputs": [
    {
     "data": {
      "image/png": "[encoded data removed]",
      "text/plain": [
       "<Figure size 432x288 with 1 Axes>"
      ]
     },
     "metadata": {
      "needs_background": "light"
     },
     "output_type": "display_data"
    }
   ],
   "source": [
    "df_read = pd.read_csv(\"/Users/jsyme/Documents/Projects/FY21/PAF21/complexity_modeling/out/simulate_walks.csv\")\n",
    "\n",
    "for i in range(1, 1001):\n",
    "    df_tmp = df_read[df_read[\"run_id\"] == i]\n",
    "    x = np.array(df_tmp[\"time_period\"])\n",
    "    y = np.array(df_tmp[\"state\"])\n",
    "    \n",
    "    plt.plot(x, y, alpha = 0.15, color = \"gray\")\n",
    "plt.show()\n"
   ]
  },
  {
   "cell_type": "code",
   "execution_count": 2,
   "metadata": {},
   "outputs": [],
   "source": [
    "def get_markov_data_for_plots(dir_read: str):\n",
    "    \n",
    "    # check directory\n",
    "    if not os.path.exists(dir_read):\n",
    "        raise ValueError(f\"Error in get_markov_data_for_plots: directory {dir_read} not found.\")\n",
    "    \n",
    "    # check files\n",
    "    fns_req = [\"attribute_scenario\", \"attribute_state\", \"expected_outcome_by_edge\", \"outcome_values\", \"simulated_walks\"]\n",
    "    for fl in fns_req:\n",
    "        fp_req = os.path.join(dir_read, f\"{fl}.csv\")\n",
    "        if not os.path.exists(fp_req):\n",
    "            raise ValueError(f\"Error in get_markov_data_for_plots: file {fl}.csv not found in {dir_read}.\")\n",
    "    \n",
    "    dir_base_read = os.path.basename(dir_read)\n",
    "\n",
    "    # read files, then return\n",
    "    attr_scenario = sf.AttributeTable(\n",
    "        os.path.join(dir_read, \"attribute_scenario.csv\"),\n",
    "        \"scenario_id\",\n",
    "        []\n",
    "    )\n",
    "    attr_state = sf.AttributeTable(\n",
    "        os.path.join(dir_read, \"attribute_state.csv\"),\n",
    "        \"state\",\n",
    "        []\n",
    "    )\n",
    "\n",
    "    df_expected_outcome = pd.read_csv(os.path.join(dir_read, \"expected_outcome_by_edge.csv\"))\n",
    "    df_ov = pd.read_csv(os.path.join(dir_read, \"outcome_values.csv\"))\n",
    "    df_walks = pd.read_csv(os.path.join(dir_read, \"simulated_walks.csv\"))\n",
    "\n",
    "    return attr_scenario, attr_state, df_expected_outcome, df_ov, df_walks\n",
    "    "
   ]
  },
  {
   "cell_type": "code",
   "execution_count": 173,
   "metadata": {},
   "outputs": [],
   "source": []
  },
  {
   "cell_type": "code",
   "execution_count": null,
   "metadata": {},
   "outputs": [],
   "source": [
    "##  RUN SEAD\n",
    "\n",
    "dir_read = \"/Users/jsyme/Documents/Projects/FY21/PAF21/markov_decision_utilities/out/20220503_113036_output_sead\"\n",
    "dir_base_read = os.path.basename(dir_read)\n",
    "dir_out = os.path.join(\"..\", \"out\", f\"img_{dir_base_read}\")\n",
    "\n",
    "# load data\n",
    "attr_scenario, attr_state, df_expected_outcome, df_ov, df_walks = get_markov_data_for_plots(dir_read)\n",
    "\n",
    "# generate plots\n",
    "generate_overlayed_outcome_histogram_plots(\n",
    "    df_ov,\n",
    "    attr_scenario,\n",
    "    {\n",
    "        \"Baseline Blue Stealth\": [0, 1], \n",
    "        \"With Threat to Red\": [2, 3, 4, 5, 6, 7],\n",
    "        \"Baseline Blue Stealth (Uniform Sojourn)\": [8, 9], \n",
    "        \"With Threat to Red (Uniform Sojourn)\": [10, 11, 12, 13, 14, 15]\n",
    "        \n",
    "    },\n",
    "    [\"entropy_total_by_time\", \"entropy_mean_by_time\", \"entropy_total_by_steps\", \"entropy_mean_by_steps\"],\n",
    "    dir_out\n",
    ")\n",
    "\n",
    "generate_expected_value_matrix_plots(\n",
    "    df_expected_outcome,\n",
    "    attr_scenario,\n",
    "    attr_state,        \n",
    "    dir_out\n",
    ");\n",
    "\n",
    "\n",
    "\n",
    "\n"
   ]
  },
  {
   "cell_type": "code",
   "execution_count": null,
   "metadata": {},
   "outputs": [],
   "source": [
    "##  RUN CMC\n",
    "\n",
    "dir_read = \"/Users/jsyme/Documents/Projects/FY21/PAF21/markov_decision_utilities/out/20220503_113122_output_cuban_missile_crisis\"\n",
    "dir_base_read = os.path.basename(dir_read)\n",
    "dir_out = os.path.join(\"..\", \"out\", f\"img_{dir_base_read}\")\n",
    "\n",
    "# load data\n",
    "attr_scenario, attr_state, df_expected_outcome, df_ov, df_walks = get_markov_data_for_plots(dir_read)\n",
    "\n",
    "# generate plots\n",
    "generate_overlayed_outcome_histogram_plots(\n",
    "    df_ov,\n",
    "    attr_scenario,\n",
    "    {\"Baseline\": [0, 1], \"Premature Discovery\": [2, 3, 4]},\n",
    "    [\"entropy_total_by_time\", \"entropy_mean_by_time\", \"entropy_total_by_steps\", \"entropy_mean_by_steps\"],\n",
    "    dir_out\n",
    ")\n",
    "\n",
    "generate_expected_value_matrix_plots(\n",
    "    df_expected_outcome,\n",
    "    attr_scenario,\n",
    "    attr_state,        \n",
    "    dir_out\n",
    ");\n",
    "\n",
    "\n",
    "\n",
    "\n"
   ]
  },
  {
   "cell_type": "code",
   "execution_count": null,
   "metadata": {},
   "outputs": [],
   "source": []
  },
  {
   "cell_type": "code",
   "execution_count": null,
   "metadata": {},
   "outputs": [],
   "source": []
  },
  {
   "cell_type": "code",
   "execution_count": null,
   "metadata": {},
   "outputs": [],
   "source": []
  },
  {
   "cell_type": "code",
   "execution_count": null,
   "metadata": {},
   "outputs": [],
   "source": []
  }
 ],
 "metadata": {
  "kernelspec": {
   "display_name": "Python 3",
   "language": "python",
   "name": "python3"
  },
  "language_info": {
   "codemirror_mode": {
    "name": "ipython",
    "version": 3
   },
   "file_extension": ".py",
   "mimetype": "text/x-python",
   "name": "python",
   "nbconvert_exporter": "python",
   "pygments_lexer": "ipython3",
   "version": "3.8.5"
  }
 },
 "nbformat": 4,
 "nbformat_minor": 4
}
